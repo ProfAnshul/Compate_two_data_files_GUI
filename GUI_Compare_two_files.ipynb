{
 "cells": [
  {
   "cell_type": "markdown",
   "metadata": {},
   "source": [
    "**Window layout only:**"
   ]
  },
  {
   "cell_type": "code",
   "execution_count": 2,
   "metadata": {},
   "outputs": [],
   "source": [
    "import PySimpleGUI as sg\n",
    "layout = [\n",
    "    [sg.Text('File 1'), sg.InputText(), sg.FileBrowse(),\n",
    "     sg.Checkbox('MD5'), sg.Checkbox('SHA1')\n",
    "     ],\n",
    "    [sg.Text('File 2'), sg.InputText(), sg.FileBrowse(),\n",
    "     sg.Checkbox('SHA256')\n",
    "     ],\n",
    "    [sg.Output(size=(88, 20))],\n",
    "    [sg.Submit(), sg.Cancel()]\n",
    "]\n",
    "window = sg.Window('File Compare', layout)\n",
    "while True:                             # The Event Loop\n",
    "    event, values = window.read()\n",
    "    # print(event, values) #debug\n",
    "    if event in (None, 'Exit', 'Cancel'):\n",
    "        break"
   ]
  },
  {
   "cell_type": "markdown",
   "metadata": {},
   "source": [
    "**Final code:**"
   ]
  },
  {
   "cell_type": "code",
   "execution_count": 1,
   "metadata": {},
   "outputs": [],
   "source": [
    "%%time\n",
    "import PySimpleGUI as sg\n",
    "import re\n",
    "import hashlib\n",
    "def hash(fname, algo):\n",
    "    if algo == 'MD5':\n",
    "        hash = hashlib.md5()\n",
    "    elif algo == 'SHA1':\n",
    "        hash = hashlib.sha1()\n",
    "    elif algo == 'SHA256':\n",
    "        hash = hashlib.sha256()\n",
    "    with open(fname) as handle: #opening the file one line at a time for memory considerations\n",
    "        for line in handle:\n",
    "            hash.update(line.encode(encoding = 'utf-8'))\n",
    "    return(hash.hexdigest())\n",
    "layout = [\n",
    "    [sg.Text('File 1'), sg.InputText(), sg.FileBrowse(),\n",
    "     sg.Checkbox('MD5'), sg.Checkbox('SHA1')\n",
    "     ],\n",
    "    [sg.Text('File 2'), sg.InputText(), sg.FileBrowse(),\n",
    "     sg.Checkbox('SHA256')\n",
    "     ],\n",
    "    [sg.Output(size=(88, 20))],\n",
    "    [sg.Submit(), sg.Cancel()]\n",
    "]\n",
    "window = sg.Window('File Compare', layout)\n",
    "while True:                             # The Event Loop\n",
    "    event, values = window.read()\n",
    "    # print(event, values) #debug\n",
    "    if event in (None, 'Exit', 'Cancel'):\n",
    "        break\n",
    "    if event == 'Submit':\n",
    "        file1 = file2 = isitago = None\n",
    "        # print(values[0],values[3])\n",
    "        if values[0] and values[3]:\n",
    "            file1 = re.findall('.+:\\/.+\\.+.', values[0])\n",
    "            file2 = re.findall('.+:\\/.+\\.+.', values[3])\n",
    "            isitago = 1\n",
    "            if not file1 and file1 is not None:\n",
    "                print('Error: File 1 path not valid.')\n",
    "                isitago = 0\n",
    "            elif not file2 and file2 is not None:\n",
    "                print('Error: File 2 path not valid.')\n",
    "                isitago = 0\n",
    "            elif values[1] is not True and values[2] is not True and values[4] is not True:\n",
    "                print('Error: Choose at least one type of Encryption Algorithm')\n",
    "            elif isitago == 1:\n",
    "                print('Info: Filepaths correctly defined.')\n",
    "                algos = [] #algos to compare\n",
    "                if values[1] == True: algos.append('MD5')\n",
    "                if values[2] == True: algos.append('SHA1')\n",
    "                if values[4] == True: algos.append('SHA256')\n",
    "                filepaths = [] #files\n",
    "                filepaths.append(values[0])\n",
    "                filepaths.append(values[3])\n",
    "                print('Info: File Comparison using:', algos)\n",
    "                for algo in algos:\n",
    "                    print(algo, ':')\n",
    "                    print(filepaths[0], ':', hash(filepaths[0], algo))\n",
    "                    print(filepaths[1], ':', hash(filepaths[1], algo))\n",
    "                    if hash(filepaths[0],algo) == hash(filepaths[1],algo):\n",
    "                        print('Files match for ', algo)\n",
    "                    else:\n",
    "                        print('Files do NOT match for ', algo)\n",
    "        else:\n",
    "            print('Please choose 2 files.')\n",
    "window.close()"
   ]
  },
  {
   "cell_type": "code",
   "execution_count": null,
   "metadata": {},
   "outputs": [],
   "source": []
  }
 ],
 "metadata": {
  "kernelspec": {
   "display_name": "Python 3",
   "language": "python",
   "name": "python3"
  },
  "language_info": {
   "codemirror_mode": {
    "name": "ipython",
    "version": 3
   },
   "file_extension": ".py",
   "mimetype": "text/x-python",
   "name": "python",
   "nbconvert_exporter": "python",
   "pygments_lexer": "ipython3",
   "version": "3.7.4"
  }
 },
 "nbformat": 4,
 "nbformat_minor": 2
}
